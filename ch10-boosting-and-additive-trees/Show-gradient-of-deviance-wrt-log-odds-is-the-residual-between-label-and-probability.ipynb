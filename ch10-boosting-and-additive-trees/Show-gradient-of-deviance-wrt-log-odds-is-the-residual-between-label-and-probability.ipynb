{
 "cells": [
  {
   "cell_type": "markdown",
   "metadata": {},
   "source": [
    "Proof for Equation (10.38)"
   ]
  },
  {
   "cell_type": "markdown",
   "metadata": {},
   "source": [
    "From Equation (10.22) (proved in `./Ex-10.9-gradient-boosting-for-K-class-classification.ipynb`)"
   ]
  },
  {
   "cell_type": "markdown",
   "metadata": {},
   "source": [
    "\\begin{align*}\n",
    "L(y, f(x))\n",
    "&= - \\sum_{k=1}^K \\mathbb{I} (y = \\mathcal{G}_k) f_k(x) + \\log \\left( \\sum_{\\ell=1}^{K} e^{f_{\\ell}(x)} \\right ) \\\\\n",
    "\\end{align*}"
   ]
  },
  {
   "cell_type": "markdown",
   "metadata": {},
   "source": [
    "Then at the mth iteration,"
   ]
  },
  {
   "cell_type": "markdown",
   "metadata": {},
   "source": [
    "\\begin{align*}\n",
    "\\frac{\\partial L(y, f(x))}{\\partial f_k(x)}\n",
    "&= \\frac{-\\partial \\sum_{k=1}^K \\mathbb{I} (y = \\mathcal{G}_k) f_k(x) }{\\partial f_k(x)} + \\frac{\\partial \\log \\left( \\sum_{\\ell=1}^{K} e^{f_{\\ell}(x)} \\right )}{\\partial f_k(x)} \\\\\n",
    "&= - \\mathbb{I} (y = \\mathcal{G}_k) + \\frac{e^{f_k(x)}}{\\sum_{\\ell=1}^{K} e^{f_{\\ell}(x)}} \\\\\n",
    "&= - \\mathbb{I} (y = \\mathcal{G}_k) + p_k(x) \\\\\n",
    "\\end{align*}"
   ]
  },
  {
   "cell_type": "markdown",
   "metadata": {},
   "source": [
    "hence, the negative gradient is "
   ]
  },
  {
   "cell_type": "markdown",
   "metadata": {},
   "source": [
    "\\begin{align*}\n",
    "- \\frac{\\partial L(y, f(x))}{\\partial f_k(x)}\n",
    "&= \\mathbb{I} (y = \\mathcal{G}_k) - p_k(x) \\\\\n",
    "\\end{align*}"
   ]
  },
  {
   "cell_type": "markdown",
   "metadata": {},
   "source": [
    "where is also the residual between the label (one) and the probability of class $k$."
   ]
  }
 ],
 "metadata": {
  "kernelspec": {
   "display_name": "Python 3",
   "language": "python",
   "name": "python3"
  },
  "language_info": {
   "codemirror_mode": {
    "name": "ipython",
    "version": 3
   },
   "file_extension": ".py",
   "mimetype": "text/x-python",
   "name": "python",
   "nbconvert_exporter": "python",
   "pygments_lexer": "ipython3",
   "version": "3.8.2"
  }
 },
 "nbformat": 4,
 "nbformat_minor": 4
}

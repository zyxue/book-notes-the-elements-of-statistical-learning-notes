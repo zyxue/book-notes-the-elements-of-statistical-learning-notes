{
 "cells": [
  {
   "cell_type": "markdown",
   "metadata": {},
   "source": [
    "Proof for Equation (10.22) for multinomial deviance:"
   ]
  },
  {
   "cell_type": "markdown",
   "metadata": {},
   "source": [
    "\\begin{align*}\n",
    "L(y, p(x))\n",
    "&= - \\sum_{k=1}^K \\mathbb{I} (y = \\mathcal{G}_k) \\log p_k(x) \\\\\n",
    "&= - \\sum_{k=1}^K \\mathbb{I} (y = \\mathcal{G}_k) f_k(x) + \\log \\left( \\sum_{\\ell=1}^{K} e^{f_{\\ell}(x)} \\right ) \\\\\n",
    "\\end{align*}"
   ]
  },
  {
   "cell_type": "markdown",
   "metadata": {},
   "source": [
    "where"
   ]
  },
  {
   "cell_type": "markdown",
   "metadata": {},
   "source": [
    "\\begin{align*}\n",
    "p_k(x) &= \\frac{e^{f_k(x)}}{\\sum_{\\ell = 1}^K e^{f_{\\ell}(x)}} \\\\\n",
    "\\end{align*}"
   ]
  },
  {
   "cell_type": "markdown",
   "metadata": {},
   "source": [
    "Note, we usually set $f_K = 0$ since adding a constant (e.g. $C$) to all $f_k(x), k=1,...K$ won't affect $p_k(x)$:"
   ]
  },
  {
   "cell_type": "markdown",
   "metadata": {},
   "source": [
    "\\begin{align*}\n",
    "\\frac{e^{f_k(x) + C}}{\\sum_{\\ell = 1}^K e^{f_{\\ell}(x) + C}}\n",
    "&= \\frac{e^C e^{f_k(x)}}{e^C \\sum_{\\ell = 1}^K e^{f_{\\ell}(x)}} \\\\\n",
    "&= \\frac{e^{f_k(x)}}{\\sum_{\\ell = 1}^K e^{f_{\\ell}(x)}}\n",
    "\\end{align*}"
   ]
  },
  {
   "cell_type": "markdown",
   "metadata": {},
   "source": [
    "To derive $f_k(x)$ in terms of $p_k(x)$:"
   ]
  },
  {
   "cell_type": "markdown",
   "metadata": {},
   "source": [
    "\\begin{align*}\n",
    "p_k(x) &= \\frac{e^{f_k(x)}}{\\sum_{\\ell = 1}^K e^{f_{\\ell}(x)}} \\\\\n",
    "p_k(x) &= \\frac{e^{f_k(x)}}{e^{f_k(x)} + \\sum_{\\ell \\ne k}^K e^{f_{\\ell}(x)}} \\\\\n",
    "p_k(x) e^{f_k(x)} + p_k(x) \\sum_{\\ell \\ne k}^K e^{f_{\\ell}(x)} &= e^{f_k(x)} \\\\\n",
    "e^{f_k(x)} &= \\frac{p_k(x) \\sum_{\\ell \\ne k}^K e^{f_{\\ell}(x)}}{1 - p_k(x)} \\\\\n",
    "f_k(x) &= \\log \\frac{p_k(x) \\sum_{\\ell \\ne k}^K e^{f_{\\ell}(x)}}{1 - p_k(x)} \n",
    "\\end{align*}"
   ]
  },
  {
   "cell_type": "markdown",
   "metadata": {},
   "source": [
    "Note in the case of two classes, set $f_0(x)$ or $f_1(x)$ to $0$, depending on $k$, then $f_k(x)$ becomes the familiar log-odds $\\log \\frac{p_k(x)}{1 - p_k(x)}$."
   ]
  },
  {
   "cell_type": "markdown",
   "metadata": {},
   "source": [
    "To prove the second equality:"
   ]
  },
  {
   "cell_type": "markdown",
   "metadata": {},
   "source": [
    "\\begin{align*}\n",
    "- \\sum_{k=1}^K \\mathbb{I} (y = \\mathcal{G}_k) \\log p_k(x)\n",
    "&= - \\sum_{k=1}^K \\mathbb{I} (y = \\mathcal{G}_k) \\log \\frac{e^{f_k(x)}}{\\sum_{\\ell=1}^K e^{f_{\\ell}(x)}} \\\\\n",
    "&= - \\sum_{k=1}^K \\mathbb{I} (y = \\mathcal{G}_k) \\left( f_k(x) - \\log \\left( \\sum_{\\ell=1}^K e^{f_{\\ell}(x)} \\right) \\right) \\\\\n",
    "&= - \\sum_{k=1}^K \\mathbb{I} (y = \\mathcal{G}_k) f_k(x) + \\sum_{k=1}^K \\mathbb{I}(y = \\mathcal{G}_k) \\log \\left( \\sum_{\\ell=1}^K e^{f_{\\ell}(x)} \\right)  \\\\\n",
    "&= - \\sum_{k=1}^K \\mathbb{I} (y = \\mathcal{G}_k) f_k(x) +  \\log \\left( \\sum_{\\ell=1}^K e^{f_{\\ell}(x)} \\right) \\\\\n",
    "\\end{align*}"
   ]
  },
  {
   "cell_type": "markdown",
   "metadata": {},
   "source": [
    "Needs to understand better how a single tree is learned for classification in order to understand how to the equation at Algorithm 10.4 > (b) > iii is derived."
   ]
  },
  {
   "cell_type": "code",
   "execution_count": null,
   "metadata": {},
   "outputs": [],
   "source": []
  }
 ],
 "metadata": {
  "kernelspec": {
   "display_name": "Python 3",
   "language": "python",
   "name": "python3"
  },
  "language_info": {
   "codemirror_mode": {
    "name": "ipython",
    "version": 3
   },
   "file_extension": ".py",
   "mimetype": "text/x-python",
   "name": "python",
   "nbconvert_exporter": "python",
   "pygments_lexer": "ipython3",
   "version": "3.8.2"
  }
 },
 "nbformat": 4,
 "nbformat_minor": 4
}
